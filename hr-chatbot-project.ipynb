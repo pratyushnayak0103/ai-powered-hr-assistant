{
 "cells": [
  {
   "cell_type": "markdown",
   "id": "e865fc75-fd8a-4674-acd5-e6e7d0fc43a2",
   "metadata": {},
   "source": [
    "**Install the required dependencies**\n",
    "\n",
    "1.langchain \n",
    "2.chromadb \n",
    "3.openai \n",
    "4.gradio\n",
    "5.pypdf "
   ]
  },
  {
   "cell_type": "code",
   "execution_count": 11,
   "id": "0abfd7a7-8467-4cdf-80e9-f5643716bfa6",
   "metadata": {
    "tags": []
   },
   "outputs": [],
   "source": [
    "!pip install --quiet langchain chromadb openai gradio pypdf langchain-openai\n"
   ]
  },
  {
   "cell_type": "markdown",
   "id": "da8fca02-8e63-4f40-ab57-18e0e490dd75",
   "metadata": {},
   "source": [
    " **Croma DB was not working with SQL lite 3.31 so installed latest 3.40 version**"
   ]
  },
  {
   "cell_type": "code",
   "execution_count": 12,
   "id": "81f9d59c-861c-4b39-8bf3-728e4e4c8c91",
   "metadata": {},
   "outputs": [
    {
     "name": "stdout",
     "output_type": "stream",
     "text": [
      "--2025-09-24 18:36:03--  https://www.sqlite.org/2023/sqlite-autoconf-3410200.tar.gz\n",
      "Resolving www.sqlite.org (www.sqlite.org)... 194.195.208.62, 2600:3c02::f03c:95ff:fe07:695\n",
      "Connecting to www.sqlite.org (www.sqlite.org)|194.195.208.62|:443... connected.\n",
      "HTTP request sent, awaiting response... 200 OK\n",
      "Length: 3125545 (3.0M) [application/x-gzip]\n",
      "Saving to: ‘sqlite-autoconf-3410200.tar.gz.9’\n",
      "\n",
      "sqlite-autoconf-341 100%[===================>]   2.98M  6.82MB/s    in 0.4s    \n",
      "\n",
      "2025-09-24 18:36:04 (6.82 MB/s) - ‘sqlite-autoconf-3410200.tar.gz.9’ saved [3125545/3125545]\n",
      "\n",
      "checking for a BSD-compatible install... /usr/bin/install -c\n",
      "checking whether build environment is sane... yes\n",
      "checking for a race-free mkdir -p... /usr/bin/mkdir -p\n",
      "checking for gawk... no\n",
      "checking for mawk... mawk\n",
      "checking whether make sets $(MAKE)... yes\n",
      "checking whether make supports nested variables... yes\n",
      "checking whether make supports the include directive... yes (GNU style)\n",
      "checking for gcc... gcc\n",
      "checking whether the C compiler works... yes\n",
      "checking for C compiler default output file name... a.out\n",
      "checking for suffix of executables... \n",
      "checking whether we are cross compiling... no\n",
      "checking for suffix of object files... o\n",
      "checking whether the compiler supports GNU C... yes\n",
      "checking whether gcc accepts -g... yes\n",
      "checking for gcc option to enable C11 features... none needed\n",
      "checking whether gcc understands -c and -o together... yes\n",
      "checking dependency style of gcc... gcc3\n",
      "checking for special C compiler options needed for large files... no\n",
      "checking for _FILE_OFFSET_BITS value needed for large files... no\n",
      "checking for gcc... (cached) gcc\n",
      "checking whether the compiler supports GNU C... (cached) yes\n",
      "checking whether gcc accepts -g... (cached) yes\n",
      "checking for gcc option to enable C11 features... (cached) none needed\n",
      "checking whether gcc understands -c and -o together... (cached) yes\n",
      "checking dependency style of gcc... (cached) gcc3\n",
      "checking build system type... x86_64-pc-linux-gnu\n",
      "checking host system type... x86_64-pc-linux-gnu\n",
      "checking how to print strings... printf\n",
      "checking for a sed that does not truncate output... /usr/bin/sed\n",
      "checking for grep that handles long lines and -e... /usr/bin/grep\n",
      "checking for egrep... /usr/bin/grep -E\n",
      "checking for fgrep... /usr/bin/grep -F\n",
      "checking for ld used by gcc... /usr/bin/ld\n",
      "checking if the linker (/usr/bin/ld) is GNU ld... yes\n",
      "checking for BSD- or MS-compatible name lister (nm)... /usr/bin/nm -B\n",
      "checking the name lister (/usr/bin/nm -B) interface... BSD nm\n",
      "checking whether ln -s works... yes\n",
      "checking the maximum length of command line arguments... 1572864\n",
      "checking how to convert x86_64-pc-linux-gnu file names to x86_64-pc-linux-gnu format... func_convert_file_noop\n",
      "checking how to convert x86_64-pc-linux-gnu file names to toolchain format... func_convert_file_noop\n",
      "checking for /usr/bin/ld option to reload object files... -r\n",
      "checking for objdump... objdump\n",
      "checking how to recognize dependent libraries... pass_all\n",
      "checking for dlltool... no\n",
      "checking how to associate runtime and link libraries... printf %s\\n\n",
      "checking for ar... ar\n",
      "checking for archiver @FILE support... @\n",
      "checking for strip... strip\n",
      "checking for ranlib... ranlib\n",
      "checking command to parse /usr/bin/nm -B output from gcc object... ok\n",
      "checking for sysroot... no\n",
      "checking for a working dd... /usr/bin/dd\n",
      "checking how to truncate binary pipes... /usr/bin/dd bs=4096 count=1\n",
      "checking for mt... no\n",
      "checking if : is a manifest tool... no\n",
      "checking for stdio.h... yes\n",
      "checking for stdlib.h... yes\n",
      "checking for string.h... yes\n",
      "checking for inttypes.h... yes\n",
      "checking for stdint.h... yes\n",
      "checking for strings.h... yes\n",
      "checking for sys/stat.h... yes\n",
      "checking for sys/types.h... yes\n",
      "checking for unistd.h... yes\n",
      "checking for dlfcn.h... yes\n",
      "checking for objdir... .libs\n",
      "checking if gcc supports -fno-rtti -fno-exceptions... no\n",
      "checking for gcc option to produce PIC... -fPIC -DPIC\n",
      "checking if gcc PIC flag -fPIC -DPIC works... yes\n",
      "checking if gcc static flag -static works... yes\n",
      "checking if gcc supports -c -o file.o... yes\n",
      "checking if gcc supports -c -o file.o... (cached) yes\n",
      "checking whether the gcc linker (/usr/bin/ld -m elf_x86_64) supports shared libraries... yes\n",
      "checking whether -lc should be explicitly linked in... no\n",
      "checking dynamic linker characteristics... GNU/Linux ld.so\n",
      "checking how to hardcode library paths into programs... immediate\n",
      "checking whether stripping libraries is possible... yes\n",
      "checking if libtool supports shared libraries... yes\n",
      "checking whether to build shared libraries... yes\n",
      "checking whether to build static libraries... yes\n",
      "checking for fdatasync... yes\n",
      "checking for usleep... yes\n",
      "checking for fullfsync... no\n",
      "checking for localtime_r... yes\n",
      "checking for gmtime_r... yes\n",
      "checking for gcc options needed to detect all undeclared functions... none needed\n",
      "checking whether strerror_r is declared... yes\n",
      "checking whether strerror_r returns char *... no\n",
      "checking for editline/readline.h... no\n",
      "checking for readline/readline.h... yes\n",
      "checking for library containing tgetent... -ltermcap\n",
      "checking for library containing readline... -lreadline\n",
      "checking for library containing pthread_create... -lpthread\n",
      "checking for library containing pthread_mutexattr_init... none required\n",
      "checking for library containing dlopen... -ldl\n",
      "checking for whether to support dynamic extensions... yes\n",
      "checking SQL math functions... enabled\n",
      "checking for library containing ceil... -lm\n",
      "checking FTS4 extension... enabled\n",
      "checking FTS3 extension... disabled\n",
      "checking FTS5 extension... enabled\n",
      "checking for library containing log... none required\n",
      "checking RTREE extension... enabled\n",
      "checking Session extension... disabled\n",
      "checking Build type... release\n",
      "checking for posix_fallocate... yes\n",
      "checking for zlib.h... yes\n",
      "checking for library containing deflate... -lz\n",
      "checking for library containing system... none required\n",
      "checking that generated files are newer than configure... done\n",
      "configure: creating ./config.status\n",
      "config.status: creating Makefile\n",
      "config.status: creating sqlite3.pc\n",
      "config.status: executing depfiles commands\n",
      "config.status: executing libtool commands\n",
      "make: Nothing to be done for 'all'.\n",
      "make[1]: Entering directory '/voc/work/sqlite-autoconf-3410200'\n",
      " /usr/bin/mkdir -p '/voc/work/sqlite3/lib'\n",
      " /bin/bash ./libtool   --mode=install /usr/bin/install -c   libsqlite3.la '/voc/work/sqlite3/lib'\n",
      "libtool: install: /usr/bin/install -c .libs/libsqlite3.so.0.8.6 /voc/work/sqlite3/lib/libsqlite3.so.0.8.6\n",
      "libtool: install: (cd /voc/work/sqlite3/lib && { ln -s -f libsqlite3.so.0.8.6 libsqlite3.so.0 || { rm -f libsqlite3.so.0 && ln -s libsqlite3.so.0.8.6 libsqlite3.so.0; }; })\n",
      "libtool: install: (cd /voc/work/sqlite3/lib && { ln -s -f libsqlite3.so.0.8.6 libsqlite3.so || { rm -f libsqlite3.so && ln -s libsqlite3.so.0.8.6 libsqlite3.so; }; })\n",
      "libtool: install: /usr/bin/install -c .libs/libsqlite3.lai /voc/work/sqlite3/lib/libsqlite3.la\n",
      "libtool: install: /usr/bin/install -c .libs/libsqlite3.a /voc/work/sqlite3/lib/libsqlite3.a\n",
      "libtool: install: chmod 644 /voc/work/sqlite3/lib/libsqlite3.a\n",
      "libtool: install: ranlib /voc/work/sqlite3/lib/libsqlite3.a\n",
      "libtool: \u001b[31mwarning\u001b[m: \u001b[1mremember to run 'libtool --finish /usr/local/lib'\u001b[m\n",
      " /usr/bin/mkdir -p '/voc/work/sqlite3/bin'\n",
      "  /bin/bash ./libtool   --mode=install /usr/bin/install -c sqlite3 '/voc/work/sqlite3/bin'\n",
      "libtool: install: /usr/bin/install -c sqlite3 /voc/work/sqlite3/bin/sqlite3\n",
      " /usr/bin/mkdir -p '/voc/work/sqlite3/include'\n",
      " /usr/bin/install -c -m 644 sqlite3.h sqlite3ext.h '/voc/work/sqlite3/include'\n",
      " /usr/bin/mkdir -p '/voc/work/sqlite3/share/man/man1'\n",
      " /usr/bin/install -c -m 644 sqlite3.1 '/voc/work/sqlite3/share/man/man1'\n",
      " /usr/bin/mkdir -p '/voc/work/sqlite3/lib/pkgconfig'\n",
      " /usr/bin/install -c -m 644 sqlite3.pc '/voc/work/sqlite3/lib/pkgconfig'\n",
      "make[1]: Leaving directory '/voc/work/sqlite-autoconf-3410200'\n"
     ]
    }
   ],
   "source": [
    "# Download SQLite source\n",
    "!wget https://www.sqlite.org/2023/sqlite-autoconf-3410200.tar.gz\n",
    "\n",
    "# Extract\n",
    "!tar -xzf sqlite-autoconf-3410200.tar.gz\n",
    "\n",
    "# Build and install locally in ~/sqlite3\n",
    "!cd sqlite-autoconf-3410200 && ./configure --prefix=$HOME/sqlite3 && make && make install\n"
   ]
  },
  {
   "cell_type": "code",
   "execution_count": 13,
   "id": "5bb6eb32-4c88-4a6f-899c-aebf47b1dd10",
   "metadata": {
    "tags": []
   },
   "outputs": [],
   "source": [
    "!pip install --quiet pysqlite3-binary"
   ]
  },
  {
   "cell_type": "markdown",
   "id": "349ce4f1-7797-4012-8e03-6497e9f74133",
   "metadata": {},
   "source": [
    "**Import all necessary modules.**"
   ]
  },
  {
   "cell_type": "code",
   "execution_count": 19,
   "id": "016b3de2-e4d8-48a8-b6d5-b95f580b46a8",
   "metadata": {},
   "outputs": [],
   "source": [
    "# Imports\n",
    "import os\n",
    "from langchain.document_loaders import PyPDFLoader\n",
    "from langchain.text_splitter import CharacterTextSplitter\n",
    "from langchain.vectorstores import Chroma\n",
    "from langchain_openai import OpenAIEmbeddings\n",
    "from langchain_openai import ChatOpenAI\n",
    "from langchain.chains import RetrievalQA\n",
    "from langchain.prompts import PromptTemplate\n",
    "import sys\n",
    "import types\n",
    "import pysqlite3\n",
    "sys.modules['sqlite3'] = pysqlite3\n",
    "\n",
    "import gradio as gr\n"
   ]
  },
  {
   "cell_type": "markdown",
   "id": "d2667f75-605a-476d-baa7-e4e16c2f6b20",
   "metadata": {},
   "source": [
    "**Set the open AI key**"
   ]
  },
  {
   "cell_type": "code",
   "execution_count": 20,
   "id": "1c1a0aa3-c01f-487a-99a6-b7323d8af05f",
   "metadata": {
    "tags": []
   },
   "outputs": [],
   "source": [
    "#from dotenv import load_dotenv, find_dotenv\n",
    "\n",
    "#_ = load_dotenv(find_dotenv()) # read local .env file\n",
    "#openai.api_key  = os.getenv('OPENAI_API_KEY')"
   ]
  },
  {
   "cell_type": "markdown",
   "id": "899587a8-8cc9-4862-b4ed-7a40b8b52062",
   "metadata": {},
   "source": [
    "**1.Loading the PDF file into document loader.2.Splitting the text in the document into chunks.**\n"
   ]
  },
  {
   "cell_type": "code",
   "execution_count": 21,
   "id": "4ee11282-86fb-4c19-9ea2-689cb7f73205",
   "metadata": {},
   "outputs": [
    {
     "name": "stdout",
     "output_type": "stream",
     "text": [
      "[Document(metadata={'producer': 'Microsoft: Print To PDF', 'creator': 'PyPDF', 'creationdate': '2025-09-24T19:41:23+05:30', 'author': '', 'moddate': '2025-09-24T19:41:23+05:30', 'title': 'Microsoft Word - Document1', 'source': 'Nestle-Hr-Policy-Sample.pdf', 'total_pages': 3, 'page': 0, 'page_label': '1'}, page_content='Sample: Nestlé HR Policy (Mock Text) \\n \\n1. Introduction \\nNestlé is committed to fostering a diverse and inclusive workplace that values integrity, respect, \\nand high performance. This document outlines our core HR policies applicable to all employees \\nacross regions, with variations subject to local labor laws. \\n \\n2. Work Hours and Attendance \\n\\uf0b7 Standard working hours are 40 hours per week, typically Monday to Friday, from 9:00 \\nAM to 6:00 PM, including a 1-hour lunch break. \\n\\uf0b7 Employees are expected to report on time and notify their supervisor in case of any \\nabsences or delays. \\n \\n3. Leave Policy \\n\\uf0b7 Annual Leave : Employees are entitled to 20 working days of paid annual leave per \\ncalendar year. \\n\\uf0b7 Sick Leave : Sick leave of up to 10 days per year is available. A medical certificate is \\nrequired for absences longer than 2 days. \\n\\uf0b7 Maternity Leave : Female employees are entitled to 18 weeks of paid maternity leave. \\n\\uf0b7 Paternity Leave : Male employees are eligible for 10 working days of paternity leave. \\n\\uf0b7 Compassionate Leave : Up to 5 days of paid leave is granted for the loss of an immediate \\nfamily member. \\n \\n4. Code of Conduct \\n\\uf0b7 All employees must adhere to ethical conduct, treat colleagues with respect, and avoid \\nany form of discrimination or harassment. \\n\\uf0b7 Violations may result in disciplinary actions, including verbal/written warnings, \\nsuspension, or termination. \\n \\n5. Remote Work Policy'), Document(metadata={'producer': 'Microsoft: Print To PDF', 'creator': 'PyPDF', 'creationdate': '2025-09-24T19:41:23+05:30', 'author': '', 'moddate': '2025-09-24T19:41:23+05:30', 'title': 'Microsoft Word - Document1', 'source': 'Nestle-Hr-Policy-Sample.pdf', 'total_pages': 3, 'page': 1, 'page_label': '2'}, page_content='\\uf0b7 Employees may request up to 2 days of remote work per week with managerial approval. \\n\\uf0b7 Remote work arrangements are subject to periodic review based on performance and \\nteam needs. \\n \\n6. Training and Development \\n\\uf0b7 Nestlé encourages continuous learning through online courses, in-person training, and \\ncareer development programs. \\n\\uf0b7 Employees are required to complete mandatory compliance training annually. \\n \\n7. Performance Reviews \\n\\uf0b7 Performance evaluations are conducted bi-annually to assess employee contributions and \\nset goals. \\n\\uf0b7 Reviews impact eligibility for bonuses, promotions, and internal mobility. \\n \\n8. Grievance Redressal \\n\\uf0b7 Employees can raise concerns through their HR business partner or the Ethics & \\nCompliance hotline. \\n\\uf0b7 All grievances are handled confidentially and investigated thoroughly. \\n \\n9. Termination and Notice Period \\n\\uf0b7 Employees are required to serve a 30-day notice period upon resignation unless otherwise \\nagreed upon. \\n\\uf0b7 In cases of involuntary termination, Nestlé provides severance in accordance with local \\nlabor laws. \\n \\n10. Data Privacy \\n\\uf0b7 Nestlé ensures the confidentiality and protection of all employee data in compliance with \\ndata protection regulations (e.g., GDPR).'), Document(metadata={'producer': 'Microsoft: Print To PDF', 'creator': 'PyPDF', 'creationdate': '2025-09-24T19:41:23+05:30', 'author': '', 'moddate': '2025-09-24T19:41:23+05:30', 'title': 'Microsoft Word - Document1', 'source': 'Nestle-Hr-Policy-Sample.pdf', 'total_pages': 3, 'page': 2, 'page_label': '3'}, page_content='This policy is subject to revisions and should be read in conjunction with local labor laws and \\ncompany-specific addenda.')]\n"
     ]
    }
   ],
   "source": [
    "# Load Nestlé HR policy PDF\n",
    "loader = PyPDFLoader(\"Nestle-Hr-Policy-Sample.pdf\")\n",
    "documents = loader.load()\n",
    "\n",
    "# Split into chunks\n",
    "text_splitter = CharacterTextSplitter(chunk_size=1000, chunk_overlap=200)\n",
    "docs = text_splitter.split_documents(documents)\n",
    "print(docs)"
   ]
  },
  {
   "cell_type": "code",
   "execution_count": 22,
   "id": "eac7a2fe-7be5-4696-be61-73dcff567e53",
   "metadata": {},
   "outputs": [
    {
     "name": "stdout",
     "output_type": "stream",
     "text": [
      "Chroma vector store created successfully.\n"
     ]
    }
   ],
   "source": [
    "embedding = OpenAIEmbeddings()\n",
    "vector_store = Chroma.from_documents(docs, embedding, collection_name=\"nestle_hr_policy\")\n",
    "print(\"Chroma vector store created successfully.\")\n"
   ]
  },
  {
   "cell_type": "code",
   "execution_count": 33,
   "id": "b2fdc588-44cd-497c-a3bd-648481a6bca2",
   "metadata": {},
   "outputs": [],
   "source": [
    "from langchain.chat_models import ChatOpenAI\n",
    "from langchain.prompts import PromptTemplate\n",
    "from langchain.chains.combine_documents import create_stuff_documents_chain\n",
    "from langchain.chains.retrieval import create_retrieval_chain\n",
    "import gradio as gr\n",
    "\n",
    "# Assuming vector_store is already created and loaded\n",
    "# e.g., vector_store = Chroma.from_documents(...)\n",
    "\n",
    "# 1. Define prompt template with 'context' and 'question'\n",
    "prompt_template = \"\"\"\n",
    "You are a helpful HR assistant for Nestlé. Use only the context below to answer the question.\n",
    "If the answer is not found in the context, say: \"I'm sorry, I couldn't find that information in the policy.\"\n",
    "\n",
    "Context:\n",
    "{context}\n",
    "\n",
    "Question:\n",
    "{input}\n",
    "\n",
    "Helpful Answer:\n",
    "\"\"\"\n",
    "\n",
    "prompt = PromptTemplate.from_template(prompt_template)\n",
    "\n",
    "# 2. Setup LLM and chains\n",
    "chat_model = ChatOpenAI(model=\"gpt-3.5-turbo\", temperature=0)\n",
    "document_chain = create_stuff_documents_chain(llm=chat_model, prompt=prompt)\n",
    "retriever = vector_store.as_retriever(search_kwargs={\"k\": 4})\n",
    "qa_chain = create_retrieval_chain(retriever, document_chain)"
   ]
  },
  {
   "cell_type": "code",
   "execution_count": 34,
   "id": "bfa43716-2f26-4cb8-b1eb-7d9d747e6e34",
   "metadata": {},
   "outputs": [
    {
     "name": "stdout",
     "output_type": "stream",
     "text": [
      "Defaulting to user installation because normal site-packages is not writeable\n",
      "Requirement already satisfied: gradio in ./.local/lib/python3.10/site-packages (5.47.0)\n",
      "Requirement already satisfied: aiofiles<25.0,>=22.0 in /usr/local/lib/python3.10/site-packages (from gradio) (23.2.1)\n",
      "Requirement already satisfied: anyio<5.0,>=3.0 in /usr/local/lib/python3.10/site-packages (from gradio) (3.7.1)\n",
      "Requirement already satisfied: brotli>=1.1.0 in ./.local/lib/python3.10/site-packages (from gradio) (1.1.0)\n",
      "Requirement already satisfied: fastapi<1.0,>=0.115.2 in ./.local/lib/python3.10/site-packages (from gradio) (0.117.1)\n",
      "Requirement already satisfied: ffmpy in /usr/local/lib/python3.10/site-packages (from gradio) (0.3.1)\n",
      "Requirement already satisfied: gradio-client==1.13.2 in ./.local/lib/python3.10/site-packages (from gradio) (1.13.2)\n",
      "Requirement already satisfied: groovy~=0.1 in ./.local/lib/python3.10/site-packages (from gradio) (0.1.2)\n",
      "Requirement already satisfied: httpx<1.0,>=0.24.1 in /usr/local/lib/python3.10/site-packages (from gradio) (0.25.2)\n",
      "Requirement already satisfied: huggingface-hub<1.0,>=0.33.5 in ./.local/lib/python3.10/site-packages (from gradio) (0.35.1)\n",
      "Requirement already satisfied: jinja2<4.0 in /usr/local/lib/python3.10/site-packages (from gradio) (3.1.2)\n",
      "Requirement already satisfied: markupsafe<4.0,>=2.0 in /usr/local/lib/python3.10/site-packages (from gradio) (2.1.3)\n",
      "Requirement already satisfied: numpy<3.0,>=1.0 in /usr/local/lib/python3.10/site-packages (from gradio) (1.26.2)\n",
      "Requirement already satisfied: orjson~=3.0 in ./.local/lib/python3.10/site-packages (from gradio) (3.11.3)\n",
      "Requirement already satisfied: packaging in /usr/local/lib/python3.10/site-packages (from gradio) (23.2)\n",
      "Requirement already satisfied: pandas<3.0,>=1.0 in /usr/local/lib/python3.10/site-packages (from gradio) (2.1.3)\n",
      "Requirement already satisfied: pillow<12.0,>=8.0 in /usr/local/lib/python3.10/site-packages (from gradio) (10.1.0)\n",
      "Requirement already satisfied: pydantic<2.12,>=2.0 in ./.local/lib/python3.10/site-packages (from gradio) (2.11.9)\n",
      "Requirement already satisfied: pydub in /usr/local/lib/python3.10/site-packages (from gradio) (0.25.1)\n",
      "Requirement already satisfied: python-multipart>=0.0.18 in ./.local/lib/python3.10/site-packages (from gradio) (0.0.20)\n",
      "Requirement already satisfied: pyyaml<7.0,>=5.0 in /usr/local/lib/python3.10/site-packages (from gradio) (6.0.1)\n",
      "Requirement already satisfied: ruff>=0.9.3 in ./.local/lib/python3.10/site-packages (from gradio) (0.13.1)\n",
      "Requirement already satisfied: safehttpx<0.2.0,>=0.1.6 in ./.local/lib/python3.10/site-packages (from gradio) (0.1.6)\n",
      "Requirement already satisfied: semantic-version~=2.0 in /usr/local/lib/python3.10/site-packages (from gradio) (2.10.0)\n",
      "Requirement already satisfied: starlette<1.0,>=0.40.0 in ./.local/lib/python3.10/site-packages (from gradio) (0.48.0)\n",
      "Requirement already satisfied: tomlkit<0.14.0,>=0.12.0 in /usr/local/lib/python3.10/site-packages (from gradio) (0.12.0)\n",
      "Requirement already satisfied: typer<1.0,>=0.12 in ./.local/lib/python3.10/site-packages (from gradio) (0.19.2)\n",
      "Requirement already satisfied: typing-extensions~=4.0 in ./.local/lib/python3.10/site-packages (from gradio) (4.15.0)\n",
      "Requirement already satisfied: uvicorn>=0.14.0 in /usr/local/lib/python3.10/site-packages (from gradio) (0.24.0.post1)\n",
      "Requirement already satisfied: fsspec in /usr/local/lib/python3.10/site-packages (from gradio-client==1.13.2->gradio) (2023.10.0)\n",
      "Requirement already satisfied: websockets<16.0,>=13.0 in ./.local/lib/python3.10/site-packages (from gradio-client==1.13.2->gradio) (15.0.1)\n",
      "Requirement already satisfied: idna>=2.8 in /usr/local/lib/python3.10/site-packages (from anyio<5.0,>=3.0->gradio) (3.6)\n",
      "Requirement already satisfied: sniffio>=1.1 in /usr/local/lib/python3.10/site-packages (from anyio<5.0,>=3.0->gradio) (1.3.0)\n",
      "Requirement already satisfied: exceptiongroup in /usr/local/lib/python3.10/site-packages (from anyio<5.0,>=3.0->gradio) (1.2.0)\n",
      "Requirement already satisfied: certifi in /usr/local/lib/python3.10/site-packages (from httpx<1.0,>=0.24.1->gradio) (2023.11.17)\n",
      "Requirement already satisfied: httpcore==1.* in /usr/local/lib/python3.10/site-packages (from httpx<1.0,>=0.24.1->gradio) (1.0.2)\n",
      "Requirement already satisfied: h11<0.15,>=0.13 in /usr/local/lib/python3.10/site-packages (from httpcore==1.*->httpx<1.0,>=0.24.1->gradio) (0.14.0)\n",
      "Requirement already satisfied: filelock in /usr/local/lib/python3.10/site-packages (from huggingface-hub<1.0,>=0.33.5->gradio) (3.13.1)\n",
      "Requirement already satisfied: requests in ./.local/lib/python3.10/site-packages (from huggingface-hub<1.0,>=0.33.5->gradio) (2.32.5)\n",
      "Requirement already satisfied: tqdm>=4.42.1 in /usr/local/lib/python3.10/site-packages (from huggingface-hub<1.0,>=0.33.5->gradio) (4.66.1)\n",
      "Requirement already satisfied: hf-xet<2.0.0,>=1.1.3 in ./.local/lib/python3.10/site-packages (from huggingface-hub<1.0,>=0.33.5->gradio) (1.1.10)\n",
      "Requirement already satisfied: python-dateutil>=2.8.2 in /usr/local/lib/python3.10/site-packages (from pandas<3.0,>=1.0->gradio) (2.8.2)\n",
      "Requirement already satisfied: pytz>=2020.1 in /usr/local/lib/python3.10/site-packages (from pandas<3.0,>=1.0->gradio) (2023.3.post1)\n",
      "Requirement already satisfied: tzdata>=2022.1 in /usr/local/lib/python3.10/site-packages (from pandas<3.0,>=1.0->gradio) (2023.3)\n",
      "Requirement already satisfied: annotated-types>=0.6.0 in /usr/local/lib/python3.10/site-packages (from pydantic<2.12,>=2.0->gradio) (0.6.0)\n",
      "Requirement already satisfied: pydantic-core==2.33.2 in ./.local/lib/python3.10/site-packages (from pydantic<2.12,>=2.0->gradio) (2.33.2)\n",
      "Requirement already satisfied: typing-inspection>=0.4.0 in ./.local/lib/python3.10/site-packages (from pydantic<2.12,>=2.0->gradio) (0.4.1)\n",
      "Requirement already satisfied: click>=8.0.0 in /usr/local/lib/python3.10/site-packages (from typer<1.0,>=0.12->gradio) (8.1.7)\n",
      "Requirement already satisfied: shellingham>=1.3.0 in /usr/local/lib/python3.10/site-packages (from typer<1.0,>=0.12->gradio) (1.5.4)\n",
      "Requirement already satisfied: rich>=10.11.0 in /usr/local/lib/python3.10/site-packages (from typer<1.0,>=0.12->gradio) (13.5.3)\n",
      "Requirement already satisfied: six>=1.5 in /usr/local/lib/python3.10/site-packages (from python-dateutil>=2.8.2->pandas<3.0,>=1.0->gradio) (1.16.0)\n",
      "Requirement already satisfied: markdown-it-py>=2.2.0 in /usr/local/lib/python3.10/site-packages (from rich>=10.11.0->typer<1.0,>=0.12->gradio) (3.0.0)\n",
      "Requirement already satisfied: pygments<3.0.0,>=2.13.0 in /usr/local/lib/python3.10/site-packages (from rich>=10.11.0->typer<1.0,>=0.12->gradio) (2.16.1)\n",
      "Requirement already satisfied: charset_normalizer<4,>=2 in /usr/local/lib/python3.10/site-packages (from requests->huggingface-hub<1.0,>=0.33.5->gradio) (3.3.2)\n",
      "Requirement already satisfied: urllib3<3,>=1.21.1 in /usr/local/lib/python3.10/site-packages (from requests->huggingface-hub<1.0,>=0.33.5->gradio) (1.26.18)\n",
      "Requirement already satisfied: mdurl~=0.1 in /usr/local/lib/python3.10/site-packages (from markdown-it-py>=2.2.0->rich>=10.11.0->typer<1.0,>=0.12->gradio) (0.1.1)\n"
     ]
    }
   ],
   "source": [
    "!pip install --upgrade gradio\n"
   ]
  },
  {
   "cell_type": "code",
   "execution_count": 36,
   "id": "09f8c5cc-ccb7-445b-83e1-b23c0ab67e7c",
   "metadata": {},
   "outputs": [
    {
     "name": "stdout",
     "output_type": "stream",
     "text": [
      "* Running on local URL:  http://127.0.0.1:7864\n",
      "* Running on public URL: https://fe1cc4f89df17c91d2.gradio.live\n",
      "\n",
      "This share link expires in 1 week. For free permanent hosting and GPU upgrades, run `gradio deploy` from the terminal in the working directory to deploy to Hugging Face Spaces (https://huggingface.co/spaces)\n"
     ]
    },
    {
     "data": {
      "text/html": [
       "<div><iframe src=\"https://fe1cc4f89df17c91d2.gradio.live\" width=\"100%\" height=\"500\" allow=\"autoplay; camera; microphone; clipboard-read; clipboard-write;\" frameborder=\"0\" allowfullscreen></iframe></div>"
      ],
      "text/plain": [
       "<IPython.core.display.HTML object>"
      ]
     },
     "metadata": {},
     "output_type": "display_data"
    },
    {
     "data": {
      "text/plain": []
     },
     "execution_count": 36,
     "metadata": {},
     "output_type": "execute_result"
    }
   ],
   "source": [
    "# 3. Define Gradio interface function\n",
    "def chatbot_interface(query):\n",
    "    result = qa_chain.invoke({\"input\": query})  # note: use 'question' key here!\n",
    "    return result[\"answer\"]\n",
    "\n",
    "# 4. Launch Gradio app with bigger output box\n",
    "interface = gr.Interface(\n",
    "    fn=chatbot_interface,\n",
    "    inputs=gr.Textbox(lines=2, placeholder=\"Ask about Nestlé HR policies...\"),\n",
    "    outputs=gr.Textbox(lines=10),   # <-- bigger output box with 10 lines\n",
    "    title=\"Nestlé HR Assistant\",\n",
    "    description=\"Ask any question about Nestlé’s HR policy. The assistant will provide accurate information based on internal documents.\"\n",
    ")\n",
    "\n",
    "interface.launch(share=True)\n"
   ]
  },
  {
   "cell_type": "code",
   "execution_count": null,
   "id": "217aa515-971e-4ee9-826b-00f04de5d135",
   "metadata": {},
   "outputs": [],
   "source": []
  },
  {
   "cell_type": "code",
   "execution_count": null,
   "id": "3249a2a2-6942-4c0c-bf05-486bc7a37178",
   "metadata": {},
   "outputs": [],
   "source": []
  }
 ],
 "metadata": {
  "kernelspec": {
   "display_name": "Python 3 [3.10]",
   "language": "python",
   "name": "python3"
  },
  "language_info": {
   "codemirror_mode": {
    "name": "ipython",
    "version": 3
   },
   "file_extension": ".py",
   "mimetype": "text/x-python",
   "name": "python",
   "nbconvert_exporter": "python",
   "pygments_lexer": "ipython3",
   "version": "3.10.2"
  }
 },
 "nbformat": 4,
 "nbformat_minor": 5
}
